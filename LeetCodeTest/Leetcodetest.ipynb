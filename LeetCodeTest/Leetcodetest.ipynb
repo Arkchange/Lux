{
 "cells": [
  {
   "cell_type": "code",
   "execution_count": 5,
   "id": "20b417cf",
   "metadata": {},
   "outputs": [
    {
     "data": {
      "text/plain": [
       "3"
      ]
     },
     "execution_count": 5,
     "metadata": {},
     "output_type": "execute_result"
    }
   ],
   "source": [
    "needle = \"sad\"\n",
    "\n",
    "s = list(needle)\n",
    "len(needle)"
   ]
  },
  {
   "cell_type": "code",
   "execution_count": 13,
   "id": "afbf87fa",
   "metadata": {},
   "outputs": [
    {
     "name": "stdout",
     "output_type": "stream",
     "text": [
      "2\n"
     ]
    },
    {
     "data": {
      "text/plain": [
       "1"
      ]
     },
     "execution_count": 13,
     "metadata": {},
     "output_type": "execute_result"
    }
   ],
   "source": [
    "print(11//5)\n",
    "11%5"
   ]
  },
  {
   "cell_type": "code",
   "execution_count": null,
   "id": "d3c183cb",
   "metadata": {},
   "outputs": [
    {
     "data": {
      "text/plain": [
       "[1, 2, 3, 4, 5, 6, 8, 9, 10]"
      ]
     },
     "execution_count": 31,
     "metadata": {},
     "output_type": "execute_result"
    }
   ],
   "source": [
    "\n",
    "a = [i+1 for i in range(10)]\n",
    "a.remove(7)\n",
    "a"
   ]
  },
  {
   "cell_type": "code",
   "execution_count": 46,
   "id": "b5992cab",
   "metadata": {},
   "outputs": [
    {
     "data": {
      "text/plain": [
       "defaultdict(dict,\n",
       "            {0: {1: 1, 4: 0},\n",
       "             1: {0: 0, 3: 1},\n",
       "             3: {1: 0, 2: 0},\n",
       "             2: {3: 1},\n",
       "             4: {0: 1, 5: 1},\n",
       "             5: {4: 0}})"
      ]
     },
     "execution_count": 46,
     "metadata": {},
     "output_type": "execute_result"
    }
   ],
   "source": [
    "from collections import defaultdict\n",
    "\n",
    "connections = [[0,1],[1,3],[2,3],[4,0],[4,5]]\n",
    "d = defaultdict(dict)\n",
    "for a, b in connections:\n",
    "    d[a][b] = 1\n",
    "    d[b][a] = 0\n",
    "d"
   ]
  },
  {
   "cell_type": "code",
   "execution_count": null,
   "id": "67bcc137",
   "metadata": {},
   "outputs": [],
   "source": [
    "equations = [[\"a\",\"b\"],[\"b\",\"c\"]]\n",
    "letter = set([val for subset in equations for val in subset])\n",
    "letter\n",
    "\n",
    "equations1 = [[\"a\",\"b\"],[\"b\",\"c\"],[\"b\",\"e\"]]\n",
    "if \"e\" in equations1"
   ]
  },
  {
   "cell_type": "code",
   "execution_count": 45,
   "id": "56bce04d",
   "metadata": {},
   "outputs": [
    {
     "data": {
      "text/plain": [
       "defaultdict(list, {4: [(1, 1)]})"
      ]
     },
     "execution_count": 45,
     "metadata": {},
     "output_type": "execute_result"
    }
   ],
   "source": [
    "graph = defaultdict(list)\n",
    "graph[a].append((1, 1))\n",
    "graph"
   ]
  },
  {
   "cell_type": "code",
   "execution_count": 37,
   "id": "50509985",
   "metadata": {},
   "outputs": [
    {
     "name": "stdout",
     "output_type": "stream",
     "text": [
      "True\n"
     ]
    }
   ],
   "source": [
    "if 0 in connections[0]:\n",
    "    print(True)"
   ]
  },
  {
   "cell_type": "code",
   "execution_count": 20,
   "id": "5123afbd",
   "metadata": {},
   "outputs": [
    {
     "name": "stdout",
     "output_type": "stream",
     "text": [
      "1\n",
      "3\n"
     ]
    }
   ],
   "source": [
    "a = [lambda x=x : print(x) for x in rooms[0]]\n",
    "a\n",
    "for func in a:\n",
    "    func()"
   ]
  },
  {
   "cell_type": "code",
   "execution_count": null,
   "id": "a3bc12d2",
   "metadata": {},
   "outputs": [
    {
     "ename": "NameError",
     "evalue": "name 'i' is not defined",
     "output_type": "error",
     "traceback": [
      "\u001b[31m---------------------------------------------------------------------------\u001b[39m",
      "\u001b[31mNameError\u001b[39m                                 Traceback (most recent call last)",
      "\u001b[36mCell\u001b[39m\u001b[36m \u001b[39m\u001b[32mIn[13]\u001b[39m\u001b[32m, line 3\u001b[39m\n\u001b[32m      1\u001b[39m key = \u001b[38;5;28mset\u001b[39m()\n\u001b[32m----> \u001b[39m\u001b[32m3\u001b[39m key.add(\u001b[38;5;28;01mlambda\u001b[39;00m x : i \u001b[38;5;28;01mfor\u001b[39;00m x \u001b[38;5;129;01min\u001b[39;00m rooms[\u001b[32m0\u001b[39m][\u001b[43mi\u001b[49m])\n\u001b[32m      4\u001b[39m key\n",
      "\u001b[31mNameError\u001b[39m: name 'i' is not defined"
     ]
    }
   ],
   "source": [
    "key = set()\n",
    "\n",
    "key.add(lambda x : x for x in rooms[0][i])\n",
    "key"
   ]
  }
 ],
 "metadata": {
  "kernelspec": {
   "display_name": "Python 3",
   "language": "python",
   "name": "python3"
  },
  "language_info": {
   "codemirror_mode": {
    "name": "ipython",
    "version": 3
   },
   "file_extension": ".py",
   "mimetype": "text/x-python",
   "name": "python",
   "nbconvert_exporter": "python",
   "pygments_lexer": "ipython3",
   "version": "3.13.3"
  }
 },
 "nbformat": 4,
 "nbformat_minor": 5
}
