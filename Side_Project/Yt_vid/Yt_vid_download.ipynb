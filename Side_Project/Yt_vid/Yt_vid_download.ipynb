{
 "cells": [
  {
   "cell_type": "code",
   "execution_count": 3,
   "id": "c68832d6",
   "metadata": {},
   "outputs": [
    {
     "name": "stdout",
     "output_type": "stream",
     "text": [
      "[youtube] Extracting URL: https://www.youtube.com/watch?v=u7kdVe8q5zs&t=19s\n",
      "[youtube] u7kdVe8q5zs: Downloading webpage\n",
      "[youtube] u7kdVe8q5zs: Downloading tv client config\n",
      "[youtube] u7kdVe8q5zs: Downloading tv player API JSON\n",
      "[youtube] u7kdVe8q5zs: Downloading ios player API JSON\n",
      "[youtube] u7kdVe8q5zs: Downloading m3u8 information\n",
      "[info] u7kdVe8q5zs: Downloading 1 format(s): 400\n",
      "[download] Destination: Minecraft Parkour Gameplay No Copyright_video_only.mp4\n",
      "[download] 100% of    2.35GiB in 00:04:34 at 8.76MiB/s      \n"
     ]
    }
   ],
   "source": [
    "import yt_dlp\n",
    "\n",
    "url = \"https://www.youtube.com/watch?v=u7kdVe8q5zs&t=19s\"\n",
    "\n",
    "ydl_opts = {\n",
    "    'format': 'bv[ext=mp4]',  # bv = best video only\n",
    "    'outtmpl': '%(title)s_video_only.%(ext)s'\n",
    "}\n",
    "\n",
    "with yt_dlp.YoutubeDL(ydl_opts) as ydl:\n",
    "    ydl.download([url])\n"
   ]
  }
 ],
 "metadata": {
  "kernelspec": {
   "display_name": "env",
   "language": "python",
   "name": "python3"
  },
  "language_info": {
   "codemirror_mode": {
    "name": "ipython",
    "version": 3
   },
   "file_extension": ".py",
   "mimetype": "text/x-python",
   "name": "python",
   "nbconvert_exporter": "python",
   "pygments_lexer": "ipython3",
   "version": "3.13.3"
  }
 },
 "nbformat": 4,
 "nbformat_minor": 5
}
