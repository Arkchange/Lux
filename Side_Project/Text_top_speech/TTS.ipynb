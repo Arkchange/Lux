{
 "cells": [
  {
   "cell_type": "code",
   "execution_count": 7,
   "id": "2903cca3",
   "metadata": {},
   "outputs": [
    {
     "name": "stdout",
     "output_type": "stream",
     "text": [
      "Audio saved as dream_tiktok_voice.mp3\n"
     ]
    }
   ],
   "source": [
    "from google.cloud import texttospeech\n",
    "\n",
    "# Texte à lire\n",
    "text = \"\"\"\n",
    "In a box, there were miniature Pokémon from the Eevee evolution family. I had caught several of them, but Flareon refused to be captured.\n",
    "I saw it walk away in front of me, and I understood that it didn't want to be one of mine.\n",
    "\n",
    "Then, a Ho-Oh appeared, and by chance, I managed to catch it with a Hyper Ball on the very first try.\n",
    "A mod came to check the legitimacy of the capture.\n",
    "\n",
    "After that, I found myself immersed in a Pokémon/Minecraft-like world.\n",
    "When I entered a cave, it suddenly felt like I was in a horror movie.\n",
    "\n",
    "The mission: to find the lost adventurer inside the cave.\n",
    "Luckily, I was able to use Ho-Oh as a flashlight, but fear began to take over me.\n",
    "\n",
    "It felt like being in Lethal Company, with its endless tunnels and labyrinths.\n",
    "At one point, while going down a staircase, a wave of terror hit me.\n",
    "\n",
    "A Weeping Angel—like the ones from Doctor Who—and a zombie appeared.\n",
    "They didn’t move as long as we looked at them, but we understood we had to run—and the lost person might already be dead.\n",
    "\n",
    "Panicking, we ran without looking back. Suddenly, a robot from Five Nights at Freddy’s charged at me at full speed—but missed.\n",
    "Rescue doors were within reach, but my companions got there first and locked them behind them.\n",
    "\n",
    "Trapped, I died of fear… and then I woke up from the dream.\n",
    "\"\"\"\n",
    "\n",
    "# Initialiser le client Google TTS\n",
    "client = texttospeech.TextToSpeechClient()\n",
    "\n",
    "# Préparer le texte\n",
    "input_text = texttospeech.SynthesisInput(text=text)\n",
    "\n",
    "# Choisir la voix TikTok-style masculine (Wavenet-D)\n",
    "voice = texttospeech.VoiceSelectionParams(\n",
    "    language_code=\"en-US\",\n",
    "    name=\"en-US-Wavenet-D\",  # Voix masculine naturelle\n",
    "    ssml_gender=texttospeech.SsmlVoiceGender.MALE\n",
    ")\n",
    "\n",
    "# Configurer l’audio\n",
    "audio_config = texttospeech.AudioConfig(\n",
    "    audio_encoding=texttospeech.AudioEncoding.MP3\n",
    ")\n",
    "\n",
    "# Synthétiser\n",
    "response = client.synthesize_speech(\n",
    "    input=input_text,\n",
    "    voice=voice,\n",
    "    audio_config=audio_config\n",
    ")\n",
    "\n",
    "# Sauvegarder le fichier audio\n",
    "with open(\"dream_tiktok_voice.mp3\", \"wb\") as out:\n",
    "    out.write(response.audio_content)\n",
    "    print(\"Audio saved as dream_tiktok_voice.mp3\")"
   ]
  }
 ],
 "metadata": {
  "kernelspec": {
   "display_name": "env",
   "language": "python",
   "name": "python3"
  },
  "language_info": {
   "codemirror_mode": {
    "name": "ipython",
    "version": 3
   },
   "file_extension": ".py",
   "mimetype": "text/x-python",
   "name": "python",
   "nbconvert_exporter": "python",
   "pygments_lexer": "ipython3",
   "version": "3.13.3"
  }
 },
 "nbformat": 4,
 "nbformat_minor": 5
}
