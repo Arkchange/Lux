{
 "cells": [
  {
   "cell_type": "code",
   "execution_count": 3,
   "id": "fdba132b",
   "metadata": {},
   "outputs": [
    {
     "name": "stdout",
     "output_type": "stream",
     "text": [
      "{'video_found': True, 'audio_found': False, 'metadata': {}, 'inputs': [{'streams': [{'input_number': 0, 'stream_number': 0, 'stream_type': 'video', 'language': None, 'default': True, 'size': [447, 447], 'bitrate': None, 'fps': 33.33, 'codec_name': 'gif', 'profile': None}], 'input_number': 0}], 'duration': 5.46, 'bitrate': 17901, 'start': 0.0, 'default_video_input_number': 0, 'default_video_stream_number': 0, 'video_codec_name': 'gif', 'video_profile': None, 'video_size': [447, 447], 'video_bitrate': None, 'video_fps': 33.33, 'video_duration': 5.46, 'video_n_frames': 181}\n",
      "c:\\Users\\Asus\\Desktop\\VsCode test\\env\\Lib\\site-packages\\imageio_ffmpeg\\binaries\\ffmpeg-win-x86_64-v7.1.exe -i tenor.gif -loglevel error -f image2pipe -vf scale=447:447 -sws_flags bicubic -pix_fmt rgb24 -vcodec rawvideo -\n",
      "MoviePy - Building video tenor.mp4.\n",
      "MoviePy - Writing video tenor.mp4\n",
      "\n"
     ]
    },
    {
     "name": "stderr",
     "output_type": "stream",
     "text": [
      "                                                                         \r"
     ]
    },
    {
     "name": "stdout",
     "output_type": "stream",
     "text": [
      "MoviePy - Done !\n",
      "MoviePy - video ready tenor.mp4\n"
     ]
    }
   ],
   "source": [
    "import moviepy as mp\n",
    "import os\n",
    "import sys\n",
    "\n",
    "clip = mp.VideoFileClip(\"tenor.gif\")\n",
    "\n",
    "mp4_path = os.path.splitext(\"tenor.gif\")[0] + \".mp4\"\n",
    "\n",
    "clip.write_videofile(mp4_path, codec=\"libx264\")"
   ]
  }
 ],
 "metadata": {
  "kernelspec": {
   "display_name": "env",
   "language": "python",
   "name": "python3"
  },
  "language_info": {
   "codemirror_mode": {
    "name": "ipython",
    "version": 3
   },
   "file_extension": ".py",
   "mimetype": "text/x-python",
   "name": "python",
   "nbconvert_exporter": "python",
   "pygments_lexer": "ipython3",
   "version": "3.13.3"
  }
 },
 "nbformat": 4,
 "nbformat_minor": 5
}
