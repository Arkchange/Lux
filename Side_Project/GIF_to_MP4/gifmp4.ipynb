{
 "cells": [
  {
   "cell_type": "code",
   "execution_count": 1,
   "id": "fdba132b",
   "metadata": {},
   "outputs": [
    {
     "name": "stdout",
     "output_type": "stream",
     "text": [
      "{'video_found': True, 'audio_found': False, 'metadata': {}, 'inputs': [{'streams': [{'input_number': 0, 'stream_number': 0, 'stream_type': 'video', 'language': None, 'default': True, 'size': [447, 447], 'bitrate': None, 'fps': 33.33, 'codec_name': 'gif', 'profile': None}], 'input_number': 0}], 'duration': 5.46, 'bitrate': 17901, 'start': 0.0, 'default_video_input_number': 0, 'default_video_stream_number': 0, 'video_codec_name': 'gif', 'video_profile': None, 'video_size': [447, 447], 'video_bitrate': None, 'video_fps': 33.33, 'video_duration': 5.46, 'video_n_frames': 181}\n",
      "c:\\Users\\Asus\\Desktop\\VsCode test\\env\\Lib\\site-packages\\imageio_ffmpeg\\binaries\\ffmpeg-win-x86_64-v7.1.exe -i tenor.gif -loglevel error -f image2pipe -vf scale=447:447 -sws_flags bicubic -pix_fmt rgb24 -vcodec rawvideo -\n",
      "MoviePy - Building video tenor.mp4.\n",
      "MoviePy - Writing video tenor.mp4\n",
      "\n"
     ]
    },
    {
     "name": "stderr",
     "output_type": "stream",
     "text": [
      "frame_index:  91%|█████████ | 164/181 [00:00<00:00, 217.64it/s, now=None]c:\\Users\\Asus\\Desktop\\VsCode test\\env\\Lib\\site-packages\\moviepy\\video\\io\\ffmpeg_reader.py:178: UserWarning: In file tenor.gif, 599427 bytes wanted but 0 bytes read at frame index 164 (out of a total 181 frames), at time 4.92/5.46 sec. Using the last valid frame instead.\n",
      "  warnings.warn(\n",
      "c:\\Users\\Asus\\Desktop\\VsCode test\\env\\Lib\\site-packages\\moviepy\\video\\io\\ffmpeg_reader.py:178: UserWarning: In file tenor.gif, 599427 bytes wanted but 0 bytes read at frame index 165 (out of a total 181 frames), at time 4.95/5.46 sec. Using the last valid frame instead.\n",
      "  warnings.warn(\n",
      "c:\\Users\\Asus\\Desktop\\VsCode test\\env\\Lib\\site-packages\\moviepy\\video\\io\\ffmpeg_reader.py:178: UserWarning: In file tenor.gif, 599427 bytes wanted but 0 bytes read at frame index 166 (out of a total 181 frames), at time 4.98/5.46 sec. Using the last valid frame instead.\n",
      "  warnings.warn(\n",
      "c:\\Users\\Asus\\Desktop\\VsCode test\\env\\Lib\\site-packages\\moviepy\\video\\io\\ffmpeg_reader.py:178: UserWarning: In file tenor.gif, 599427 bytes wanted but 0 bytes read at frame index 167 (out of a total 181 frames), at time 5.01/5.46 sec. Using the last valid frame instead.\n",
      "  warnings.warn(\n",
      "c:\\Users\\Asus\\Desktop\\VsCode test\\env\\Lib\\site-packages\\moviepy\\video\\io\\ffmpeg_reader.py:178: UserWarning: In file tenor.gif, 599427 bytes wanted but 0 bytes read at frame index 168 (out of a total 181 frames), at time 5.04/5.46 sec. Using the last valid frame instead.\n",
      "  warnings.warn(\n",
      "c:\\Users\\Asus\\Desktop\\VsCode test\\env\\Lib\\site-packages\\moviepy\\video\\io\\ffmpeg_reader.py:178: UserWarning: In file tenor.gif, 599427 bytes wanted but 0 bytes read at frame index 169 (out of a total 181 frames), at time 5.07/5.46 sec. Using the last valid frame instead.\n",
      "  warnings.warn(\n",
      "c:\\Users\\Asus\\Desktop\\VsCode test\\env\\Lib\\site-packages\\moviepy\\video\\io\\ffmpeg_reader.py:178: UserWarning: In file tenor.gif, 599427 bytes wanted but 0 bytes read at frame index 170 (out of a total 181 frames), at time 5.10/5.46 sec. Using the last valid frame instead.\n",
      "  warnings.warn(\n",
      "c:\\Users\\Asus\\Desktop\\VsCode test\\env\\Lib\\site-packages\\moviepy\\video\\io\\ffmpeg_reader.py:178: UserWarning: In file tenor.gif, 599427 bytes wanted but 0 bytes read at frame index 171 (out of a total 181 frames), at time 5.13/5.46 sec. Using the last valid frame instead.\n",
      "  warnings.warn(\n",
      "c:\\Users\\Asus\\Desktop\\VsCode test\\env\\Lib\\site-packages\\moviepy\\video\\io\\ffmpeg_reader.py:178: UserWarning: In file tenor.gif, 599427 bytes wanted but 0 bytes read at frame index 172 (out of a total 181 frames), at time 5.16/5.46 sec. Using the last valid frame instead.\n",
      "  warnings.warn(\n",
      "c:\\Users\\Asus\\Desktop\\VsCode test\\env\\Lib\\site-packages\\moviepy\\video\\io\\ffmpeg_reader.py:178: UserWarning: In file tenor.gif, 599427 bytes wanted but 0 bytes read at frame index 173 (out of a total 181 frames), at time 5.19/5.46 sec. Using the last valid frame instead.\n",
      "  warnings.warn(\n",
      "c:\\Users\\Asus\\Desktop\\VsCode test\\env\\Lib\\site-packages\\moviepy\\video\\io\\ffmpeg_reader.py:178: UserWarning: In file tenor.gif, 599427 bytes wanted but 0 bytes read at frame index 174 (out of a total 181 frames), at time 5.22/5.46 sec. Using the last valid frame instead.\n",
      "  warnings.warn(\n",
      "c:\\Users\\Asus\\Desktop\\VsCode test\\env\\Lib\\site-packages\\moviepy\\video\\io\\ffmpeg_reader.py:178: UserWarning: In file tenor.gif, 599427 bytes wanted but 0 bytes read at frame index 175 (out of a total 181 frames), at time 5.25/5.46 sec. Using the last valid frame instead.\n",
      "  warnings.warn(\n",
      "c:\\Users\\Asus\\Desktop\\VsCode test\\env\\Lib\\site-packages\\moviepy\\video\\io\\ffmpeg_reader.py:178: UserWarning: In file tenor.gif, 599427 bytes wanted but 0 bytes read at frame index 176 (out of a total 181 frames), at time 5.28/5.46 sec. Using the last valid frame instead.\n",
      "  warnings.warn(\n",
      "c:\\Users\\Asus\\Desktop\\VsCode test\\env\\Lib\\site-packages\\moviepy\\video\\io\\ffmpeg_reader.py:178: UserWarning: In file tenor.gif, 599427 bytes wanted but 0 bytes read at frame index 177 (out of a total 181 frames), at time 5.31/5.46 sec. Using the last valid frame instead.\n",
      "  warnings.warn(\n",
      "c:\\Users\\Asus\\Desktop\\VsCode test\\env\\Lib\\site-packages\\moviepy\\video\\io\\ffmpeg_reader.py:178: UserWarning: In file tenor.gif, 599427 bytes wanted but 0 bytes read at frame index 178 (out of a total 181 frames), at time 5.34/5.46 sec. Using the last valid frame instead.\n",
      "  warnings.warn(\n",
      "c:\\Users\\Asus\\Desktop\\VsCode test\\env\\Lib\\site-packages\\moviepy\\video\\io\\ffmpeg_reader.py:178: UserWarning: In file tenor.gif, 599427 bytes wanted but 0 bytes read at frame index 179 (out of a total 181 frames), at time 5.37/5.46 sec. Using the last valid frame instead.\n",
      "  warnings.warn(\n",
      "c:\\Users\\Asus\\Desktop\\VsCode test\\env\\Lib\\site-packages\\moviepy\\video\\io\\ffmpeg_reader.py:178: UserWarning: In file tenor.gif, 599427 bytes wanted but 0 bytes read at frame index 180 (out of a total 181 frames), at time 5.40/5.46 sec. Using the last valid frame instead.\n",
      "  warnings.warn(\n",
      "                                                                         \r"
     ]
    },
    {
     "name": "stdout",
     "output_type": "stream",
     "text": [
      "MoviePy - Done !\n",
      "MoviePy - video ready tenor.mp4\n"
     ]
    }
   ],
   "source": [
    "import moviepy as mp\n",
    "import os\n",
    "import sys\n",
    "\n",
    "clip = mp.VideoFileClip(\"tenor.gif\")\n",
    "\n",
    "mp4_path = os.path.splitext(\"tenor.gif\")[0] + \".mp4\"\n",
    "\n",
    "clip.write_videofile(mp4_path, codec=\"libx264\")"
   ]
  }
 ],
 "metadata": {
  "kernelspec": {
   "display_name": "env",
   "language": "python",
   "name": "python3"
  },
  "language_info": {
   "codemirror_mode": {
    "name": "ipython",
    "version": 3
   },
   "file_extension": ".py",
   "mimetype": "text/x-python",
   "name": "python",
   "nbconvert_exporter": "python",
   "pygments_lexer": "ipython3",
   "version": "3.13.3"
  }
 },
 "nbformat": 4,
 "nbformat_minor": 5
}
